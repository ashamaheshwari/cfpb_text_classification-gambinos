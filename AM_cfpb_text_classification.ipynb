{
 "cells": [
  {
   "cell_type": "code",
   "execution_count": 1,
   "id": "5b785f76",
   "metadata": {},
   "outputs": [],
   "source": [
    "import pandas as pd\n",
    "import re\n",
    "import numpy as np\n",
    "import matplotlib.pyplot as plt\n",
    "import nltk"
   ]
  },
  {
   "cell_type": "code",
   "execution_count": 2,
   "id": "2d14aaa1",
   "metadata": {},
   "outputs": [],
   "source": [
    "complaints = pd.read_csv(\"./Data/complaints.csv\")"
   ]
  },
  {
   "cell_type": "code",
   "execution_count": 3,
   "id": "0672d0be",
   "metadata": {},
   "outputs": [
    {
     "data": {
      "text/html": [
       "<div>\n",
       "<style scoped>\n",
       "    .dataframe tbody tr th:only-of-type {\n",
       "        vertical-align: middle;\n",
       "    }\n",
       "\n",
       "    .dataframe tbody tr th {\n",
       "        vertical-align: top;\n",
       "    }\n",
       "\n",
       "    .dataframe thead th {\n",
       "        text-align: right;\n",
       "    }\n",
       "</style>\n",
       "<table border=\"1\" class=\"dataframe\">\n",
       "  <thead>\n",
       "    <tr style=\"text-align: right;\">\n",
       "      <th></th>\n",
       "      <th>Consumer complaint narrative</th>\n",
       "      <th>Issue</th>\n",
       "    </tr>\n",
       "  </thead>\n",
       "  <tbody>\n",
       "    <tr>\n",
       "      <th>0</th>\n",
       "      <td>My name is XXXX XXXX this complaint is not mad...</td>\n",
       "      <td>Incorrect information on your report</td>\n",
       "    </tr>\n",
       "    <tr>\n",
       "      <th>1</th>\n",
       "      <td>I searched on XXXX for XXXXXXXX XXXX  and was ...</td>\n",
       "      <td>Fraud or scam</td>\n",
       "    </tr>\n",
       "    <tr>\n",
       "      <th>2</th>\n",
       "      <td>I have a particular account that is stating th...</td>\n",
       "      <td>Incorrect information on your report</td>\n",
       "    </tr>\n",
       "    <tr>\n",
       "      <th>3</th>\n",
       "      <td>I have not supplied proof under the doctrine o...</td>\n",
       "      <td>Attempts to collect debt not owed</td>\n",
       "    </tr>\n",
       "    <tr>\n",
       "      <th>4</th>\n",
       "      <td>Hello i'm writing regarding account on my cred...</td>\n",
       "      <td>Incorrect information on your report</td>\n",
       "    </tr>\n",
       "    <tr>\n",
       "      <th>...</th>\n",
       "      <td>...</td>\n",
       "      <td>...</td>\n",
       "    </tr>\n",
       "    <tr>\n",
       "      <th>353427</th>\n",
       "      <td>Collections account I have no knowledge of</td>\n",
       "      <td>Attempts to collect debt not owed</td>\n",
       "    </tr>\n",
       "    <tr>\n",
       "      <th>353428</th>\n",
       "      <td>Dear CFPB Team, The reason for my complaint is...</td>\n",
       "      <td>Attempts to collect debt not owed</td>\n",
       "    </tr>\n",
       "    <tr>\n",
       "      <th>353429</th>\n",
       "      <td>FRCA violations : Failing to Follow Debt Dispu...</td>\n",
       "      <td>Attempts to collect debt not owed</td>\n",
       "    </tr>\n",
       "    <tr>\n",
       "      <th>353430</th>\n",
       "      <td>My Father, a XXXX XXXX  acquired an HECM rever...</td>\n",
       "      <td>Struggling to pay mortgage</td>\n",
       "    </tr>\n",
       "    <tr>\n",
       "      <th>353431</th>\n",
       "      <td>I have tried to contact cash app about a fraud...</td>\n",
       "      <td>Fraud or scam</td>\n",
       "    </tr>\n",
       "  </tbody>\n",
       "</table>\n",
       "<p>353432 rows × 2 columns</p>\n",
       "</div>"
      ],
      "text/plain": [
       "                             Consumer complaint narrative  \\\n",
       "0       My name is XXXX XXXX this complaint is not mad...   \n",
       "1       I searched on XXXX for XXXXXXXX XXXX  and was ...   \n",
       "2       I have a particular account that is stating th...   \n",
       "3       I have not supplied proof under the doctrine o...   \n",
       "4       Hello i'm writing regarding account on my cred...   \n",
       "...                                                   ...   \n",
       "353427         Collections account I have no knowledge of   \n",
       "353428  Dear CFPB Team, The reason for my complaint is...   \n",
       "353429  FRCA violations : Failing to Follow Debt Dispu...   \n",
       "353430  My Father, a XXXX XXXX  acquired an HECM rever...   \n",
       "353431  I have tried to contact cash app about a fraud...   \n",
       "\n",
       "                                       Issue  \n",
       "0       Incorrect information on your report  \n",
       "1                              Fraud or scam  \n",
       "2       Incorrect information on your report  \n",
       "3          Attempts to collect debt not owed  \n",
       "4       Incorrect information on your report  \n",
       "...                                      ...  \n",
       "353427     Attempts to collect debt not owed  \n",
       "353428     Attempts to collect debt not owed  \n",
       "353429     Attempts to collect debt not owed  \n",
       "353430            Struggling to pay mortgage  \n",
       "353431                         Fraud or scam  \n",
       "\n",
       "[353432 rows x 2 columns]"
      ]
     },
     "execution_count": 3,
     "metadata": {},
     "output_type": "execute_result"
    }
   ],
   "source": [
    "complaints"
   ]
  },
  {
   "cell_type": "code",
   "execution_count": 4,
   "id": "a2fd9001",
   "metadata": {},
   "outputs": [
    {
     "data": {
      "text/plain": [
       "Incorrect information on your report    229305\n",
       "Attempts to collect debt not owed        73163\n",
       "Communication tactics                    21243\n",
       "Struggling to pay mortgage               17374\n",
       "Fraud or scam                            12347\n",
       "Name: Issue, dtype: int64"
      ]
     },
     "execution_count": 4,
     "metadata": {},
     "output_type": "execute_result"
    }
   ],
   "source": [
    "complaints['Issue'].value_counts()"
   ]
  },
  {
   "cell_type": "code",
   "execution_count": 5,
   "id": "a2ee23f0",
   "metadata": {},
   "outputs": [],
   "source": [
    "### Convert column name so that they don't have space and are more readable\n",
    "complaints = complaints.rename(columns = {'Consumer complaint narrative' : 'complaint_narrative', 'Issue' : 'complaint_issue'})\n",
    "\n"
   ]
  },
  {
   "cell_type": "code",
   "execution_count": 6,
   "id": "4a3f4a08",
   "metadata": {},
   "outputs": [
    {
     "data": {
      "text/plain": [
       "<Axes: ylabel='Frequency'>"
      ]
     },
     "execution_count": 6,
     "metadata": {},
     "output_type": "execute_result"
    },
    {
     "data": {
      "image/png": "[encoded data removed]",
      "text/plain": [
       "<Figure size 640x480 with 1 Axes>"
      ]
     },
     "metadata": {},
     "output_type": "display_data"
    }
   ],
   "source": [
    "complaints['complaint_narrative'].apply(len).plot(kind = 'hist')"
   ]
  },
  {
   "cell_type": "code",
   "execution_count": 7,
   "id": "c26c682e",
   "metadata": {},
   "outputs": [
    {
     "name": "stderr",
     "output_type": "stream",
     "text": [
      "/var/folders/s3/9_r9v9px7_v0q69b5zcbnmsm0000gn/T/ipykernel_47662/412939920.py:3: FutureWarning: The default value of regex will change from True to False in a future version.\n",
      "  complaints['complaint_narrative'] = complaints['complaint_narrative'].str.replace(r'[xX][xX]+',\"\")\n"
     ]
    }
   ],
   "source": [
    "### Keep the length columns as a new column\n",
    "complaints['complaint_length'] = complaints['complaint_narrative'].apply(len)\n",
    "complaints['complaint_narrative'] = complaints['complaint_narrative'].str.replace(r'[xX][xX]+',\"\")"
   ]
  },
  {
   "cell_type": "code",
   "execution_count": 8,
   "id": "047fc17b",
   "metadata": {},
   "outputs": [
    {
     "data": {
      "text/html": [
       "<div>\n",
       "<style scoped>\n",
       "    .dataframe tbody tr th:only-of-type {\n",
       "        vertical-align: middle;\n",
       "    }\n",
       "\n",
       "    .dataframe tbody tr th {\n",
       "        vertical-align: top;\n",
       "    }\n",
       "\n",
       "    .dataframe thead th {\n",
       "        text-align: right;\n",
       "    }\n",
       "</style>\n",
       "<table border=\"1\" class=\"dataframe\">\n",
       "  <thead>\n",
       "    <tr style=\"text-align: right;\">\n",
       "      <th></th>\n",
       "      <th>complaint_narrative</th>\n",
       "      <th>complaint_issue</th>\n",
       "      <th>complaint_length</th>\n",
       "    </tr>\n",
       "  </thead>\n",
       "  <tbody>\n",
       "    <tr>\n",
       "      <th>0</th>\n",
       "      <td>My name is   this complaint is not made in err...</td>\n",
       "      <td>Incorrect information on your report</td>\n",
       "      <td>711</td>\n",
       "    </tr>\n",
       "    <tr>\n",
       "      <th>1</th>\n",
       "      <td>I searched on  for    and was pointed to a web...</td>\n",
       "      <td>Fraud or scam</td>\n",
       "      <td>1958</td>\n",
       "    </tr>\n",
       "    <tr>\n",
       "      <th>2</th>\n",
       "      <td>I have a particular account that is stating th...</td>\n",
       "      <td>Incorrect information on your report</td>\n",
       "      <td>294</td>\n",
       "    </tr>\n",
       "    <tr>\n",
       "      <th>3</th>\n",
       "      <td>I have not supplied proof under the doctrine o...</td>\n",
       "      <td>Attempts to collect debt not owed</td>\n",
       "      <td>3444</td>\n",
       "    </tr>\n",
       "    <tr>\n",
       "      <th>4</th>\n",
       "      <td>Hello i'm writing regarding account on my cred...</td>\n",
       "      <td>Incorrect information on your report</td>\n",
       "      <td>876</td>\n",
       "    </tr>\n",
       "    <tr>\n",
       "      <th>...</th>\n",
       "      <td>...</td>\n",
       "      <td>...</td>\n",
       "      <td>...</td>\n",
       "    </tr>\n",
       "    <tr>\n",
       "      <th>353427</th>\n",
       "      <td>Collections account I have no knowledge of</td>\n",
       "      <td>Attempts to collect debt not owed</td>\n",
       "      <td>42</td>\n",
       "    </tr>\n",
       "    <tr>\n",
       "      <th>353428</th>\n",
       "      <td>Dear CFPB Team, The reason for my complaint is...</td>\n",
       "      <td>Attempts to collect debt not owed</td>\n",
       "      <td>4586</td>\n",
       "    </tr>\n",
       "    <tr>\n",
       "      <th>353429</th>\n",
       "      <td>FRCA violations : Failing to Follow Debt Dispu...</td>\n",
       "      <td>Attempts to collect debt not owed</td>\n",
       "      <td>4328</td>\n",
       "    </tr>\n",
       "    <tr>\n",
       "      <th>353430</th>\n",
       "      <td>My Father, a    acquired an HECM reverse mortg...</td>\n",
       "      <td>Struggling to pay mortgage</td>\n",
       "      <td>5418</td>\n",
       "    </tr>\n",
       "    <tr>\n",
       "      <th>353431</th>\n",
       "      <td>I have tried to contact cash app about a fraud...</td>\n",
       "      <td>Fraud or scam</td>\n",
       "      <td>153</td>\n",
       "    </tr>\n",
       "  </tbody>\n",
       "</table>\n",
       "<p>353432 rows × 3 columns</p>\n",
       "</div>"
      ],
      "text/plain": [
       "                                      complaint_narrative  \\\n",
       "0       My name is   this complaint is not made in err...   \n",
       "1       I searched on  for    and was pointed to a web...   \n",
       "2       I have a particular account that is stating th...   \n",
       "3       I have not supplied proof under the doctrine o...   \n",
       "4       Hello i'm writing regarding account on my cred...   \n",
       "...                                                   ...   \n",
       "353427         Collections account I have no knowledge of   \n",
       "353428  Dear CFPB Team, The reason for my complaint is...   \n",
       "353429  FRCA violations : Failing to Follow Debt Dispu...   \n",
       "353430  My Father, a    acquired an HECM reverse mortg...   \n",
       "353431  I have tried to contact cash app about a fraud...   \n",
       "\n",
       "                             complaint_issue  complaint_length  \n",
       "0       Incorrect information on your report               711  \n",
       "1                              Fraud or scam              1958  \n",
       "2       Incorrect information on your report               294  \n",
       "3          Attempts to collect debt not owed              3444  \n",
       "4       Incorrect information on your report               876  \n",
       "...                                      ...               ...  \n",
       "353427     Attempts to collect debt not owed                42  \n",
       "353428     Attempts to collect debt not owed              4586  \n",
       "353429     Attempts to collect debt not owed              4328  \n",
       "353430            Struggling to pay mortgage              5418  \n",
       "353431                         Fraud or scam               153  \n",
       "\n",
       "[353432 rows x 3 columns]"
      ]
     },
     "execution_count": 8,
     "metadata": {},
     "output_type": "execute_result"
    }
   ],
   "source": [
    "complaints"
   ]
  },
  {
   "cell_type": "code",
   "execution_count": 9,
   "id": "29cd3098",
   "metadata": {},
   "outputs": [
    {
     "name": "stdout",
     "output_type": "stream",
     "text": [
      "['X']\n"
     ]
    }
   ],
   "source": [
    "# list of potentially unique redaction patterns.  \n",
    "redaction_patterns = complaints['complaint_narrative'].str.extractall(r'(X+)').reset_index()[0].unique()\n",
    "\n",
    "# display the results\n",
    "print(redaction_patterns)"
   ]
  },
  {
   "cell_type": "code",
   "execution_count": 11,
   "id": "b5f2190c",
   "metadata": {},
   "outputs": [
    {
     "data": {
      "text/html": [
       "<div>\n",
       "<style scoped>\n",
       "    .dataframe tbody tr th:only-of-type {\n",
       "        vertical-align: middle;\n",
       "    }\n",
       "\n",
       "    .dataframe tbody tr th {\n",
       "        vertical-align: top;\n",
       "    }\n",
       "\n",
       "    .dataframe thead th {\n",
       "        text-align: right;\n",
       "    }\n",
       "</style>\n",
       "<table border=\"1\" class=\"dataframe\">\n",
       "  <thead>\n",
       "    <tr style=\"text-align: right;\">\n",
       "      <th></th>\n",
       "      <th></th>\n",
       "      <th>0</th>\n",
       "      <th>count</th>\n",
       "    </tr>\n",
       "    <tr>\n",
       "      <th>complaint_issue</th>\n",
       "      <th></th>\n",
       "      <th></th>\n",
       "      <th></th>\n",
       "    </tr>\n",
       "  </thead>\n",
       "  <tbody>\n",
       "    <tr>\n",
       "      <th rowspan=\"5\" valign=\"top\">Attempts to collect debt not owed</th>\n",
       "      <th>0</th>\n",
       "      <td>3Xs</td>\n",
       "      <td>1</td>\n",
       "    </tr>\n",
       "    <tr>\n",
       "      <th>1</th>\n",
       "      <td>AMERICANEXPRESS</td>\n",
       "      <td>2</td>\n",
       "    </tr>\n",
       "    <tr>\n",
       "      <th>2</th>\n",
       "      <td>ANXIETY</td>\n",
       "      <td>1</td>\n",
       "    </tr>\n",
       "    <tr>\n",
       "      <th>3</th>\n",
       "      <td>APPROXIMATELY</td>\n",
       "      <td>3</td>\n",
       "    </tr>\n",
       "    <tr>\n",
       "      <th>4</th>\n",
       "      <td>AXCESS</td>\n",
       "      <td>1</td>\n",
       "    </tr>\n",
       "    <tr>\n",
       "      <th>...</th>\n",
       "      <th>...</th>\n",
       "      <td>...</td>\n",
       "      <td>...</td>\n",
       "    </tr>\n",
       "    <tr>\n",
       "      <th rowspan=\"5\" valign=\"top\">Struggling to pay mortgage</th>\n",
       "      <th>132</th>\n",
       "      <td>TOXIC</td>\n",
       "      <td>5</td>\n",
       "    </tr>\n",
       "    <tr>\n",
       "      <th>133</th>\n",
       "      <td>TXHAF</td>\n",
       "      <td>11</td>\n",
       "    </tr>\n",
       "    <tr>\n",
       "      <th>134</th>\n",
       "      <td>UNEXCUSABLE</td>\n",
       "      <td>1</td>\n",
       "    </tr>\n",
       "    <tr>\n",
       "      <th>135</th>\n",
       "      <td>UNEXPLAINED</td>\n",
       "      <td>1</td>\n",
       "    </tr>\n",
       "    <tr>\n",
       "      <th>136</th>\n",
       "      <td>eXPlain</td>\n",
       "      <td>1</td>\n",
       "    </tr>\n",
       "  </tbody>\n",
       "</table>\n",
       "<p>737 rows × 2 columns</p>\n",
       "</div>"
      ],
      "text/plain": [
       "                                                     0  count\n",
       "complaint_issue                                              \n",
       "Attempts to collect debt not owed 0                3Xs      1\n",
       "                                  1    AMERICANEXPRESS      2\n",
       "                                  2            ANXIETY      1\n",
       "                                  3      APPROXIMATELY      3\n",
       "                                  4             AXCESS      1\n",
       "...                                                ...    ...\n",
       "Struggling to pay mortgage        132            TOXIC      5\n",
       "                                  133            TXHAF     11\n",
       "                                  134      UNEXCUSABLE      1\n",
       "                                  135      UNEXPLAINED      1\n",
       "                                  136          eXPlain      1\n",
       "\n",
       "[737 rows x 2 columns]"
      ]
     },
     "execution_count": 11,
     "metadata": {},
     "output_type": "execute_result"
    }
   ],
   "source": [
    "redaction_counts = complaints.groupby('complaint_issue')['complaint_narrative'].apply(lambda x: x.str.extractall(r'(\\w+X+\\w+)').groupby(0).size().reset_index(name='count'))\n",
    "redaction_counts"
   ]
  },
  {
   "cell_type": "code",
   "execution_count": 12,
   "id": "79d422ea",
   "metadata": {},
   "outputs": [
    {
     "data": {
      "text/plain": [
       "32616"
      ]
     },
     "execution_count": 12,
     "metadata": {},
     "output_type": "execute_result"
    }
   ],
   "source": [
    "complaints['complaint_length'].max()"
   ]
  },
  {
   "cell_type": "code",
   "execution_count": 13,
   "id": "76f3ea44",
   "metadata": {},
   "outputs": [
    {
     "data": {
      "text/plain": [
       "4"
      ]
     },
     "execution_count": 13,
     "metadata": {},
     "output_type": "execute_result"
    }
   ],
   "source": [
    "complaints['complaint_length'].min()"
   ]
  },
  {
   "cell_type": "code",
   "execution_count": null,
   "id": "596db12f",
   "metadata": {},
   "outputs": [],
   "source": [
    "# tomo code\n",
    "complaints['complaint_narrative'] = complaints['complaint_narrative'].str.replace(r'[xX][xX]+','', regex=True)"
   ]
  }
 ],
 "metadata": {
  "kernelspec": {
   "display_name": "Python 3 (ipykernel)",
   "language": "python",
   "name": "python3"
  },
  "language_info": {
   "codemirror_mode": {
    "name": "ipython",
    "version": 3
   },
   "file_extension": ".py",
   "mimetype": "text/x-python",
   "name": "python",
   "nbconvert_exporter": "python",
   "pygments_lexer": "ipython3",
   "version": "3.9.12"
  }
 },
 "nbformat": 4,
 "nbformat_minor": 5
}
